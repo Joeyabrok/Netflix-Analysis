{
 "cells": [
  {
   "cell_type": "code",
   "execution_count": 23,
   "id": "62d92b12",
   "metadata": {},
   "outputs": [],
   "source": [
    "import pandas as pd\n",
    "\n",
    "import matplotlib.pyplot as plt\n",
    "import numpy as np\n"
   ]
  },
  {
   "cell_type": "code",
   "execution_count": 24,
   "id": "78be8e33",
   "metadata": {},
   "outputs": [
    {
     "data": {
      "text/html": [
       "<div>\n",
       "<style scoped>\n",
       "    .dataframe tbody tr th:only-of-type {\n",
       "        vertical-align: middle;\n",
       "    }\n",
       "\n",
       "    .dataframe tbody tr th {\n",
       "        vertical-align: top;\n",
       "    }\n",
       "\n",
       "    .dataframe thead th {\n",
       "        text-align: right;\n",
       "    }\n",
       "</style>\n",
       "<table border=\"1\" class=\"dataframe\">\n",
       "  <thead>\n",
       "    <tr style=\"text-align: right;\">\n",
       "      <th></th>\n",
       "      <th>show_id</th>\n",
       "      <th>type</th>\n",
       "      <th>title</th>\n",
       "      <th>director</th>\n",
       "      <th>cast</th>\n",
       "      <th>country</th>\n",
       "      <th>date_added</th>\n",
       "      <th>release_year</th>\n",
       "      <th>rating</th>\n",
       "      <th>duration</th>\n",
       "      <th>listed_in</th>\n",
       "      <th>description</th>\n",
       "    </tr>\n",
       "  </thead>\n",
       "  <tbody>\n",
       "    <tr>\n",
       "      <th>0</th>\n",
       "      <td>s1</td>\n",
       "      <td>Movie</td>\n",
       "      <td>Dick Johnson Is Dead</td>\n",
       "      <td>Kirsten Johnson</td>\n",
       "      <td>NaN</td>\n",
       "      <td>United States</td>\n",
       "      <td>September 25, 2021</td>\n",
       "      <td>2020</td>\n",
       "      <td>PG-13</td>\n",
       "      <td>90 min</td>\n",
       "      <td>Documentaries</td>\n",
       "      <td>As her father nears the end of his life, filmm...</td>\n",
       "    </tr>\n",
       "    <tr>\n",
       "      <th>1</th>\n",
       "      <td>s2</td>\n",
       "      <td>TV Show</td>\n",
       "      <td>Blood &amp; Water</td>\n",
       "      <td>NaN</td>\n",
       "      <td>Ama Qamata, Khosi Ngema, Gail Mabalane, Thaban...</td>\n",
       "      <td>South Africa</td>\n",
       "      <td>September 24, 2021</td>\n",
       "      <td>2021</td>\n",
       "      <td>TV-MA</td>\n",
       "      <td>2 Seasons</td>\n",
       "      <td>International TV Shows, TV Dramas, TV Mysteries</td>\n",
       "      <td>After crossing paths at a party, a Cape Town t...</td>\n",
       "    </tr>\n",
       "    <tr>\n",
       "      <th>2</th>\n",
       "      <td>s3</td>\n",
       "      <td>TV Show</td>\n",
       "      <td>Ganglands</td>\n",
       "      <td>Julien Leclercq</td>\n",
       "      <td>Sami Bouajila, Tracy Gotoas, Samuel Jouy, Nabi...</td>\n",
       "      <td>NaN</td>\n",
       "      <td>September 24, 2021</td>\n",
       "      <td>2021</td>\n",
       "      <td>TV-MA</td>\n",
       "      <td>1 Season</td>\n",
       "      <td>Crime TV Shows, International TV Shows, TV Act...</td>\n",
       "      <td>To protect his family from a powerful drug lor...</td>\n",
       "    </tr>\n",
       "    <tr>\n",
       "      <th>3</th>\n",
       "      <td>s4</td>\n",
       "      <td>TV Show</td>\n",
       "      <td>Jailbirds New Orleans</td>\n",
       "      <td>NaN</td>\n",
       "      <td>NaN</td>\n",
       "      <td>NaN</td>\n",
       "      <td>September 24, 2021</td>\n",
       "      <td>2021</td>\n",
       "      <td>TV-MA</td>\n",
       "      <td>1 Season</td>\n",
       "      <td>Docuseries, Reality TV</td>\n",
       "      <td>Feuds, flirtations and toilet talk go down amo...</td>\n",
       "    </tr>\n",
       "    <tr>\n",
       "      <th>4</th>\n",
       "      <td>s5</td>\n",
       "      <td>TV Show</td>\n",
       "      <td>Kota Factory</td>\n",
       "      <td>NaN</td>\n",
       "      <td>Mayur More, Jitendra Kumar, Ranjan Raj, Alam K...</td>\n",
       "      <td>India</td>\n",
       "      <td>September 24, 2021</td>\n",
       "      <td>2021</td>\n",
       "      <td>TV-MA</td>\n",
       "      <td>2 Seasons</td>\n",
       "      <td>International TV Shows, Romantic TV Shows, TV ...</td>\n",
       "      <td>In a city of coaching centers known to train I...</td>\n",
       "    </tr>\n",
       "  </tbody>\n",
       "</table>\n",
       "</div>"
      ],
      "text/plain": [
       "  show_id     type                  title         director  \\\n",
       "0      s1    Movie   Dick Johnson Is Dead  Kirsten Johnson   \n",
       "1      s2  TV Show          Blood & Water              NaN   \n",
       "2      s3  TV Show              Ganglands  Julien Leclercq   \n",
       "3      s4  TV Show  Jailbirds New Orleans              NaN   \n",
       "4      s5  TV Show           Kota Factory              NaN   \n",
       "\n",
       "                                                cast        country  \\\n",
       "0                                                NaN  United States   \n",
       "1  Ama Qamata, Khosi Ngema, Gail Mabalane, Thaban...   South Africa   \n",
       "2  Sami Bouajila, Tracy Gotoas, Samuel Jouy, Nabi...            NaN   \n",
       "3                                                NaN            NaN   \n",
       "4  Mayur More, Jitendra Kumar, Ranjan Raj, Alam K...          India   \n",
       "\n",
       "           date_added  release_year rating   duration  \\\n",
       "0  September 25, 2021          2020  PG-13     90 min   \n",
       "1  September 24, 2021          2021  TV-MA  2 Seasons   \n",
       "2  September 24, 2021          2021  TV-MA   1 Season   \n",
       "3  September 24, 2021          2021  TV-MA   1 Season   \n",
       "4  September 24, 2021          2021  TV-MA  2 Seasons   \n",
       "\n",
       "                                           listed_in  \\\n",
       "0                                      Documentaries   \n",
       "1    International TV Shows, TV Dramas, TV Mysteries   \n",
       "2  Crime TV Shows, International TV Shows, TV Act...   \n",
       "3                             Docuseries, Reality TV   \n",
       "4  International TV Shows, Romantic TV Shows, TV ...   \n",
       "\n",
       "                                         description  \n",
       "0  As her father nears the end of his life, filmm...  \n",
       "1  After crossing paths at a party, a Cape Town t...  \n",
       "2  To protect his family from a powerful drug lor...  \n",
       "3  Feuds, flirtations and toilet talk go down amo...  \n",
       "4  In a city of coaching centers known to train I...  "
      ]
     },
     "execution_count": 24,
     "metadata": {},
     "output_type": "execute_result"
    }
   ],
   "source": [
    "netflix_df = pd.read_csv('netflix_titles.csv')\n",
    "# Dataset is now stored in a Pandas Dataframe\n",
    "netflix_df.head()"
   ]
  },
  {
   "cell_type": "code",
   "execution_count": 25,
   "id": "8f7504d3",
   "metadata": {},
   "outputs": [
    {
     "data": {
      "text/plain": [
       "show_id            0\n",
       "type               0\n",
       "title              0\n",
       "director        2634\n",
       "cast             825\n",
       "country          831\n",
       "date_added        10\n",
       "release_year       0\n",
       "rating             4\n",
       "duration           3\n",
       "listed_in          0\n",
       "description        0\n",
       "dtype: int64"
      ]
     },
     "execution_count": 25,
     "metadata": {},
     "output_type": "execute_result"
    }
   ],
   "source": [
    "netflix_df.isnull().sum()"
   ]
  },
  {
   "cell_type": "code",
   "execution_count": 26,
   "id": "696eb78d",
   "metadata": {},
   "outputs": [],
   "source": [
    "#Data Cleaning\n",
    "\n",
    "#we already have release. year so drop date_added\n",
    "netflix_df.drop(['date_added'],axis =1,inplace = True)\n",
    "\n",
    "#all titles appear on netflix US, so replace NaN countries with United States\n",
    "netflix_df['country'].replace(np.nan, 'United States',inplace  = True)"
   ]
  },
  {
   "cell_type": "code",
   "execution_count": 27,
   "id": "5e31fdec",
   "metadata": {},
   "outputs": [],
   "source": [
    "netflix_df['rating'].replace(np.nan, 'TV-MA',inplace  = True)"
   ]
  },
  {
   "cell_type": "code",
   "execution_count": 28,
   "id": "789d1939",
   "metadata": {},
   "outputs": [],
   "source": [
    "#Now it's time for exploratory data analysis"
   ]
  },
  {
   "cell_type": "code",
   "execution_count": 29,
   "id": "a55de16c",
   "metadata": {},
   "outputs": [
    {
     "data": {
      "text/plain": [
       "show_id         277\n",
       "type            277\n",
       "title           277\n",
       "director        252\n",
       "cast            244\n",
       "country         277\n",
       "release_year    277\n",
       "rating          277\n",
       "duration        277\n",
       "listed_in       277\n",
       "description     277\n",
       "dtype: int64"
      ]
     },
     "execution_count": 29,
     "metadata": {},
     "output_type": "execute_result"
    }
   ],
   "source": [
    "#QUESTION 1\n",
    "#1 - In 2021, did netflix release more movies or TV shows?\n",
    "#Filter cleaned dataframe for only movies\n",
    "\n",
    "movies = netflix_df[netflix_df['type'] == 'Movie']\n",
    "\n",
    "#Filter movies dataframe for only 2021. movies - then get the total count\n",
    "movies2021 = movies[movies['release_year'] == 2021]\n",
    "movies2021.count()"
   ]
  },
  {
   "cell_type": "code",
   "execution_count": 30,
   "id": "7d816e7c",
   "metadata": {},
   "outputs": [
    {
     "data": {
      "text/plain": [
       "show_id         315\n",
       "type            315\n",
       "title           315\n",
       "director         45\n",
       "cast            250\n",
       "country         315\n",
       "release_year    315\n",
       "rating          315\n",
       "duration        315\n",
       "listed_in       315\n",
       "description     315\n",
       "dtype: int64"
      ]
     },
     "execution_count": 30,
     "metadata": {},
     "output_type": "execute_result"
    }
   ],
   "source": [
    "#Filter dataframe for only tv shows\n",
    "tvShows = netflix_df[netflix_df['type'] == 'TV Show']\n",
    "#Filter tvshows dataframe for only 2021 tvshows - then get the total count\n",
    "tvShows2021 = tvShows[tvShows['release_year'] == 2021]\n",
    "tvShows2021.count()"
   ]
  },
  {
   "cell_type": "code",
   "execution_count": 31,
   "id": "3a17fcb3",
   "metadata": {},
   "outputs": [
    {
     "data": {
      "text/plain": [
       "Documentaries                                                   20\n",
       "Comedies, Dramas, International Movies                          15\n",
       "Children & Family Movies, Comedies                              13\n",
       "Children & Family Movies                                        12\n",
       "Stand-Up Comedy                                                 12\n",
       "                                                                ..\n",
       "Horror Movies, Independent Movies, International Movies          1\n",
       "Action & Adventure, Anime Features, Children & Family Movies     1\n",
       "Action & Adventure, Dramas                                       1\n",
       "Action & Adventure, Anime Features                               1\n",
       "Comedies, LGBTQ Movies, Thrillers                                1\n",
       "Name: listed_in, Length: 68, dtype: int64"
      ]
     },
     "execution_count": 31,
     "metadata": {},
     "output_type": "execute_result"
    }
   ],
   "source": [
    "#QUESTION 2\n",
    "\n",
    "#Whats the most common movie category released?\n",
    "\n",
    "\n",
    "movies2021.listed_in.value_counts()\n"
   ]
  },
  {
   "cell_type": "code",
   "execution_count": 32,
   "id": "7cf5c2fe",
   "metadata": {},
   "outputs": [
    {
     "data": {
      "text/plain": [
       "Kids' TV                                                      24\n",
       "Reality TV                                                    18\n",
       "Docuseries                                                    15\n",
       "International TV Shows, TV Dramas                             11\n",
       "International TV Shows, Romantic TV Shows, TV Comedies        10\n",
       "                                                              ..\n",
       "International TV Shows, TV Action & Adventure, TV Comedies     1\n",
       "TV Action & Adventure, TV Dramas, TV Horror                    1\n",
       "Crime TV Shows, International TV Shows, TV Thrillers           1\n",
       "Anime Series, Crime TV Shows, TV Horror                        1\n",
       "TV Action & Adventure, TV Comedies, TV Dramas                  1\n",
       "Name: listed_in, Length: 97, dtype: int64"
      ]
     },
     "execution_count": 32,
     "metadata": {},
     "output_type": "execute_result"
    }
   ],
   "source": [
    "#QUESTION 3\n",
    "#What's the most common tv show category?\n",
    "tvShows2021.listed_in.value_counts()"
   ]
  },
  {
   "cell_type": "code",
   "execution_count": 33,
   "id": "1f452b75",
   "metadata": {},
   "outputs": [
    {
     "data": {
      "text/plain": [
       "United States                            157\n",
       "India                                     22\n",
       "South Korea                                6\n",
       "United Kingdom                             6\n",
       "France                                     5\n",
       "Spain                                      5\n",
       "China                                      4\n",
       "South Africa                               4\n",
       "Italy                                      4\n",
       "Indonesia                                  4\n",
       "United Kingdom, United States              4\n",
       "Brazil                                     3\n",
       "Mexico                                     3\n",
       "Nigeria                                    2\n",
       "Sweden                                     2\n",
       "Turkey                                     2\n",
       "Japan                                      2\n",
       "Netherlands                                2\n",
       "Thailand                                   2\n",
       "Colombia                                   2\n",
       "Poland                                     2\n",
       "Australia                                  2\n",
       "Russia, United States                      1\n",
       "United States, Japan                       1\n",
       "Germany, United States                     1\n",
       "China, Taiwan                              1\n",
       "China, United Kingdom                      1\n",
       "Egypt, Denmark, Germany                    1\n",
       "Belgium, United Kingdom                    1\n",
       "Italy, Brazil, Greece                      1\n",
       "Spain, Argentina                           1\n",
       "India, United Kingdom, France, Qatar       1\n",
       "Belgium, France                            1\n",
       "Australia, United States                   1\n",
       "India, United States                       1\n",
       "Hungary, United States                     1\n",
       "Germany                                    1\n",
       "Mexico, Brazil                             1\n",
       "France, United States                      1\n",
       "Mauritius                                  1\n",
       "Belgium, Netherlands                       1\n",
       "Argentina                                  1\n",
       "Canada, United States                      1\n",
       "United Arab Emirates                       1\n",
       "New Zealand                                1\n",
       "Germany, Czech Republic                    1\n",
       "Mexico, France, Colombia                   1\n",
       "Vietnam                                    1\n",
       "China, United States, Canada               1\n",
       "United States, India                       1\n",
       "United States, United Kingdom              1\n",
       "United States, Canada                      1\n",
       "Saudi Arabia                               1\n",
       "Canada, United States, Cayman Islands      1\n",
       "Name: country, dtype: int64"
      ]
     },
     "execution_count": 33,
     "metadata": {},
     "output_type": "execute_result"
    }
   ],
   "source": [
    "#QUESTION 4\n",
    "#What 5 countries are movies most often released?\n",
    "\n",
    "movies2021.country.value_counts() \n"
   ]
  },
  {
   "cell_type": "code",
   "execution_count": 34,
   "id": "f45b54e2",
   "metadata": {},
   "outputs": [
    {
     "data": {
      "text/plain": [
       "United States                                 190\n",
       "United Kingdom                                 16\n",
       "South Korea                                    13\n",
       "Japan                                          10\n",
       "India                                           9\n",
       "Spain                                           9\n",
       "Mexico                                          6\n",
       "Australia                                       5\n",
       "Germany                                         4\n",
       "Canada                                          3\n",
       "Turkey                                          3\n",
       "United States, United Kingdom                   3\n",
       "Israel                                          2\n",
       "Thailand                                        2\n",
       "Poland                                          2\n",
       "United States, Canada                           2\n",
       "Italy                                           2\n",
       "France                                          2\n",
       "France, United States                           2\n",
       "Belgium                                         2\n",
       "Nigeria                                         2\n",
       "Norway, Denmark                                 1\n",
       "United States, Australia                        1\n",
       "Brazil                                          1\n",
       "United States, Mexico                           1\n",
       "Mexico, United States                           1\n",
       "United Kingdom, Canada, United States           1\n",
       "Uruguay, Germany                                1\n",
       "United States, Brazil, Japan, Spain, India      1\n",
       "Italy, United Kingdom                           1\n",
       "Australia, United Kingdom                       1\n",
       "United States, Czech Republic                   1\n",
       "Egypt                                           1\n",
       "South Africa                                    1\n",
       "United Arab Emirates                            1\n",
       "Colombia                                        1\n",
       "Philippines, Singapore, Indonesia               1\n",
       "Iceland                                         1\n",
       "Canada, United States                           1\n",
       "Sweden                                          1\n",
       "United States, Japan                            1\n",
       "Israel, United States                           1\n",
       "Jordan                                          1\n",
       "Argentina                                       1\n",
       ", South Korea                                   1\n",
       "United States, Singapore                        1\n",
       "Canada, United States, Ireland                  1\n",
       "Name: country, dtype: int64"
      ]
     },
     "execution_count": 34,
     "metadata": {},
     "output_type": "execute_result"
    }
   ],
   "source": [
    "#QUESTION 5\n",
    "#What 5 countries are tv shows most often released?\n",
    "tvShows2021.country.value_counts()"
   ]
  },
  {
   "cell_type": "code",
   "execution_count": 35,
   "id": "9d350e36",
   "metadata": {},
   "outputs": [
    {
     "data": {
      "text/plain": [
       "<AxesSubplot:>"
      ]
     },
     "execution_count": 35,
     "metadata": {},
     "output_type": "execute_result"
    },
    {
     "data": {
      "image/png": "[encoded data removed]",
      "text/plain": [
       "<Figure size 432x288 with 1 Axes>"
      ]
     },
     "metadata": {
      "needs_background": "light"
     },
     "output_type": "display_data"
    }
   ],
   "source": [
    "#visualize the distribution of ratings for all titles?\n",
    "allRatings = movies2021.rating.value_counts()\n",
    "allRatings.plot(kind='bar')"
   ]
  },
  {
   "cell_type": "code",
   "execution_count": 36,
   "id": "e878603e",
   "metadata": {},
   "outputs": [
    {
     "data": {
      "text/plain": [
       "<AxesSubplot:>"
      ]
     },
     "execution_count": 36,
     "metadata": {},
     "output_type": "execute_result"
    },
    {
     "data": {
      "image/png": "[encoded data removed]",
      "text/plain": [
       "<Figure size 432x288 with 1 Axes>"
      ]
     },
     "metadata": {
      "needs_background": "light"
     },
     "output_type": "display_data"
    }
   ],
   "source": [
    "#visualize the distribution of tv show ratings?\n",
    "tvRatings = tvShows2021.rating.value_counts()\n",
    "tvRatings.plot(kind='bar')"
   ]
  },
  {
   "cell_type": "code",
   "execution_count": null,
   "id": "c4a59d9c",
   "metadata": {},
   "outputs": [],
   "source": [
    "'''\n",
    "Information about which categories of content is most popular on Netflix, most popular countries for content and\n",
    "move rating  information is useful for decision makers at analyst.\n",
    "'''"
   ]
  }
 ],
 "metadata": {
  "kernelspec": {
   "display_name": "Python 3 (ipykernel)",
   "language": "python",
   "name": "python3"
  },
  "language_info": {
   "codemirror_mode": {
    "name": "ipython",
    "version": 3
   },
   "file_extension": ".py",
   "mimetype": "text/x-python",
   "name": "python",
   "nbconvert_exporter": "python",
   "pygments_lexer": "ipython3",
   "version": "3.9.12"
  }
 },
 "nbformat": 4,
 "nbformat_minor": 5
}
